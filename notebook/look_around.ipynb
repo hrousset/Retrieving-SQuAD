{
 "cells": [
  {
   "cell_type": "code",
<<<<<<< HEAD
   "execution_count": null,
   "metadata": {},
   "outputs": [],
   "source": []
  },
  {
   "cell_type": "code",
   "execution_count": null,
=======
   "execution_count": 1,
>>>>>>> bbc0438 (add metrics and inference script)
   "metadata": {},
   "outputs": [],
   "source": [
    "import pandas as pd\n",
    "import numpy as np\n",
    "from sklearn.feature_extraction.text import TfidfVectorizer"
   ]
  },
  {
   "cell_type": "code",
   "execution_count": null,
<<<<<<< HEAD
   "metadata": {},
   "outputs": [],
   "source": []
  },
  {
   "cell_type": "code",
   "execution_count": null,
   "metadata": {},
   "outputs": [],
=======
   "metadata": {},
   "outputs": [],
   "source": []
  },
  {
   "cell_type": "code",
   "execution_count": 2,
   "metadata": {},
   "outputs": [
    {
     "data": {
      "text/plain": [
       "0      {'title': 'University_of_Notre_Dame', 'paragra...\n",
       "1      {'title': 'Beyoncé', 'paragraphs': [{'context'...\n",
       "2      {'title': 'Montana', 'paragraphs': [{'context'...\n",
       "3      {'title': 'Genocide', 'paragraphs': [{'context...\n",
       "4      {'title': 'Antibiotics', 'paragraphs': [{'cont...\n",
       "                             ...                        \n",
       "437    {'title': 'Police', 'paragraphs': [{'context':...\n",
       "438    {'title': 'Punjab,_Pakistan', 'paragraphs': [{...\n",
       "439    {'title': 'Infection', 'paragraphs': [{'contex...\n",
       "440    {'title': 'Hunting', 'paragraphs': [{'context'...\n",
       "441    {'title': 'Kathmandu', 'paragraphs': [{'contex...\n",
       "Name: data, Length: 442, dtype: object"
      ]
     },
     "execution_count": 2,
     "metadata": {},
     "output_type": "execute_result"
    }
   ],
>>>>>>> bbc0438 (add metrics and inference script)
   "source": [
    "df_train = pd.read_json('/Users/helenerousset/OneDrive - Capgemini/Documents/Illuin/squad1.1/train-v1.1.json')\n",
    "df_test = pd.read_json('/Users/helenerousset/OneDrive - Capgemini/Documents/Illuin/squad1.1/dev-v1.1.json')\n",
    "df_train['data']"
   ]
  },
  {
   "cell_type": "code",
<<<<<<< HEAD
   "execution_count": null,
=======
   "execution_count": 3,
>>>>>>> bbc0438 (add metrics and inference script)
   "metadata": {},
   "outputs": [],
   "source": [
    "point = df_train.iloc[0,0]"
   ]
  },
  {
   "cell_type": "code",
   "execution_count": null,
   "metadata": {},
   "outputs": [],
   "source": [
    "point"
   ]
  },
  {
   "cell_type": "code",
   "execution_count": null,
   "metadata": {},
   "outputs": [],
   "source": [
    "print(len(df_train))\n",
    "print(point.keys())\n",
    "print(point['paragraphs'][0].keys())\n",
    "print(point['paragraphs'][0]['qas'][0].keys())"
   ]
  },
  {
   "cell_type": "code",
<<<<<<< HEAD
=======
   "execution_count": 5,
   "metadata": {},
   "outputs": [
    {
     "name": "stderr",
     "output_type": "stream",
     "text": [
      "[nltk_data] Downloading package punkt to\n",
      "[nltk_data]     /Users/helenerousset/nltk_data...\n",
      "[nltk_data]   Package punkt is already up-to-date!\n"
     ]
    }
   ],
   "source": [
    "import nltk\n",
    "nltk.download('punkt')\n",
    "# from nltk.stem.porter import PorterStemmer\n",
    "import string\n",
    "\n",
    "stemmer = PorterStemmer()\n",
    "\n",
    "\n",
    "def stem_tokens(tokens, stemmer):\n",
    "    stemmed = []\n",
    "    for item in tokens:\n",
    "        stemmed.append(stemmer.stem(item))\n",
    "    return stemmed\n",
    "\n",
    "def tokenize(text):\n",
    "    tokens = nltk.word_tokenize(text)\n",
    "    stems = stem_tokens(tokens, stemmer)\n",
    "    return stems"
   ]
  },
  {
   "cell_type": "code",
   "execution_count": 19,
   "metadata": {},
   "outputs": [
    {
     "data": {
      "text/plain": [
       "'Who was responsible for the bringing Greek culture as far as Asia?'"
      ]
     },
     "execution_count": 19,
     "metadata": {},
     "output_type": "execute_result"
    }
   ],
   "source": [
    "point = df_train.iloc[40,0]\n",
    "question = point['paragraphs'][5]['qas'][2]['question']\n",
    "question"
   ]
  },
  {
   "cell_type": "code",
   "execution_count": 15,
   "metadata": {},
   "outputs": [
    {
     "data": {
      "text/plain": [
       "['what',\n",
       " 'wa',\n",
       " 'the',\n",
       " 'name',\n",
       " 'of',\n",
       " 'the',\n",
       " 'dog',\n",
       " 'who',\n",
       " 'live',\n",
       " 'to',\n",
       " 'be',\n",
       " '29.5',\n",
       " 'year',\n",
       " '?']"
      ]
     },
     "execution_count": 15,
     "metadata": {},
     "output_type": "execute_result"
    }
   ],
   "source": [
    "tokenize(question)"
   ]
  },
  {
   "cell_type": "code",
>>>>>>> bbc0438 (add metrics and inference script)
   "execution_count": null,
   "metadata": {},
   "outputs": [],
   "source": [
    "def get_context(df):\n",
    "    contexts = []\n",
    "    for index, row in df.iterrows():\n",
    "        for point in row['data']['paragraphs']:\n",
    "            contexts.append(point['context'])\n",
    "    return contexts\n",
    "\n",
    "def get_questions(df):\n",
    "    questions = []\n",
    "    labels = []\n",
    "    idx = 0\n",
    "    for index, row in df.iterrows():\n",
    "        for i in range(len(row['data']['paragraphs'])):\n",
    "            for j in range(len(row['data']['paragraphs'][i]['qas'])):\n",
    "                questions.append(row['data']['paragraphs'][i]['qas'][j]['question'])\n",
    "                labels.append(idx)\n",
    "            idx += 1\n",
    "    return questions, labels\n",
    "            \n",
    "\n",
    "contexts = get_context(df_train)\n",
    "questions, labels = get_questions(df_train)"
   ]
  },
  {
   "cell_type": "code",
   "execution_count": null,
   "metadata": {},
   "outputs": [],
   "source": [
    "vectorizer = TfidfVectorizer()\n",
    "X = vectorizer.fit_transform(contexts)"
   ]
  },
  {
   "cell_type": "code",
   "execution_count": null,
   "metadata": {},
   "outputs": [],
   "source": [
    "idx = 100\n",
    "question = questions[idx]\n",
    "y = vectorizer.transform([question])\n",
    "result = np.dot(X,y.transpose())\n",
    "print(result.argmax())\n",
    "print(labels[idx])"
   ]
  },
  {
   "cell_type": "code",
   "execution_count": null,
   "metadata": {},
   "outputs": [],
   "source": [
    "len(questions)"
   ]
  },
  {
   "cell_type": "code",
   "execution_count": null,
   "metadata": {},
   "outputs": [],
   "source": [
    "y = vectorizer.transform(questions)\n",
    "result = np.dot(X,y.transpose())\n",
    "result.shape\n",
    "# print(result.argmax())"
   ]
  },
  {
   "cell_type": "code",
   "execution_count": null,
   "metadata": {},
   "outputs": [],
   "source": [
    "result.argmax(axis=0).shape"
   ]
  },
  {
   "cell_type": "code",
   "execution_count": null,
   "metadata": {},
   "outputs": [],
   "source": [
    "questions[idx]"
   ]
  },
  {
   "cell_type": "code",
   "execution_count": null,
   "metadata": {},
   "outputs": [],
   "source": []
  }
 ],
 "metadata": {
  "kernelspec": {
   "display_name": "Python 3.10.6 ('Retrieving-SQuAD': venv)",
   "language": "python",
   "name": "python3"
  },
  "language_info": {
   "codemirror_mode": {
    "name": "ipython",
    "version": 3
   },
   "file_extension": ".py",
   "mimetype": "text/x-python",
   "name": "python",
   "nbconvert_exporter": "python",
   "pygments_lexer": "ipython3",
   "version": "3.10.6"
  },
  "orig_nbformat": 4,
  "vscode": {
   "interpreter": {
    "hash": "70817c6cf43d93a2374c2107a334a48525283ec49354c7f6ee75b0dc7624cdea"
   }
  }
 },
 "nbformat": 4,
 "nbformat_minor": 2
}
