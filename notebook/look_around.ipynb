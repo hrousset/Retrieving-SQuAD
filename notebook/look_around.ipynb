{
 "cells": [
  {
   "cell_type": "code",
   "execution_count": null,
   "metadata": {},
   "outputs": [],
   "source": []
  },
  {
   "cell_type": "code",
   "execution_count": null,
   "metadata": {},
   "outputs": [],
   "source": [
    "import pandas as pd\n",
    "import numpy as np\n",
    "from sklearn.feature_extraction.text import TfidfVectorizer"
   ]
  },
  {
   "cell_type": "code",
   "execution_count": null,
   "metadata": {},
   "outputs": [],
   "source": []
  },
  {
   "cell_type": "code",
   "execution_count": null,
   "metadata": {},
   "outputs": [],
   "source": [
    "df_train = pd.read_json('/Users/helenerousset/OneDrive - Capgemini/Documents/Illuin/squad1.1/train-v1.1.json')\n",
    "df_test = pd.read_json('/Users/helenerousset/OneDrive - Capgemini/Documents/Illuin/squad1.1/dev-v1.1.json')\n",
    "df_train['data']"
   ]
  },
  {
   "cell_type": "code",
   "execution_count": null,
   "metadata": {},
   "outputs": [],
   "source": [
    "point = df_train.iloc[0,0]"
   ]
  },
  {
   "cell_type": "code",
   "execution_count": null,
   "metadata": {},
   "outputs": [],
   "source": [
    "point"
   ]
  },
  {
   "cell_type": "code",
   "execution_count": null,
   "metadata": {},
   "outputs": [],
   "source": [
    "print(len(df_train))\n",
    "print(point.keys())\n",
    "print(point['paragraphs'][0].keys())\n",
    "print(point['paragraphs'][0]['qas'][0].keys())"
   ]
  },
  {
   "cell_type": "code",
   "execution_count": null,
   "metadata": {},
   "outputs": [],
   "source": [
    "def get_context(df):\n",
    "    contexts = []\n",
    "    for index, row in df.iterrows():\n",
    "        for point in row['data']['paragraphs']:\n",
    "            contexts.append(point['context'])\n",
    "    return contexts\n",
    "\n",
    "def get_questions(df):\n",
    "    questions = []\n",
    "    labels = []\n",
    "    idx = 0\n",
    "    for index, row in df.iterrows():\n",
    "        for i in range(len(row['data']['paragraphs'])):\n",
    "            for j in range(len(row['data']['paragraphs'][i]['qas'])):\n",
    "                questions.append(row['data']['paragraphs'][i]['qas'][j]['question'])\n",
    "                labels.append(idx)\n",
    "            idx += 1\n",
    "    return questions, labels\n",
    "            \n",
    "\n",
    "contexts = get_context(df_train)\n",
    "questions, labels = get_questions(df_train)"
   ]
  },
  {
   "cell_type": "code",
   "execution_count": null,
   "metadata": {},
   "outputs": [],
   "source": [
    "vectorizer = TfidfVectorizer()\n",
    "X = vectorizer.fit_transform(contexts)"
   ]
  },
  {
   "cell_type": "code",
   "execution_count": null,
   "metadata": {},
   "outputs": [],
   "source": [
    "idx = 100\n",
    "question = questions[idx]\n",
    "y = vectorizer.transform([question])\n",
    "result = np.dot(X,y.transpose())\n",
    "print(result.argmax())\n",
    "print(labels[idx])"
   ]
  },
  {
   "cell_type": "code",
   "execution_count": null,
   "metadata": {},
   "outputs": [],
   "source": [
    "len(questions)"
   ]
  },
  {
   "cell_type": "code",
   "execution_count": null,
   "metadata": {},
   "outputs": [],
   "source": [
    "y = vectorizer.transform(questions)\n",
    "result = np.dot(X,y.transpose())\n",
    "result.shape\n",
    "# print(result.argmax())"
   ]
  },
  {
   "cell_type": "code",
   "execution_count": null,
   "metadata": {},
   "outputs": [],
   "source": [
    "result.argmax(axis=0).shape"
   ]
  },
  {
   "cell_type": "code",
   "execution_count": null,
   "metadata": {},
   "outputs": [],
   "source": [
    "questions[idx]"
   ]
  },
  {
   "cell_type": "code",
   "execution_count": null,
   "metadata": {},
   "outputs": [],
   "source": []
  }
 ],
 "metadata": {
  "kernelspec": {
   "display_name": "Python 3.10.6 ('Retrieving-SQuAD': venv)",
   "language": "python",
   "name": "python3"
  },
  "language_info": {
   "codemirror_mode": {
    "name": "ipython",
    "version": 3
   },
   "file_extension": ".py",
   "mimetype": "text/x-python",
   "name": "python",
   "nbconvert_exporter": "python",
   "pygments_lexer": "ipython3",
   "version": "3.10.6"
  },
  "orig_nbformat": 4,
  "vscode": {
   "interpreter": {
    "hash": "70817c6cf43d93a2374c2107a334a48525283ec49354c7f6ee75b0dc7624cdea"
   }
  }
 },
 "nbformat": 4,
 "nbformat_minor": 2
}
